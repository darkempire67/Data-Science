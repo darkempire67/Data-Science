{
 "cells": [
  {
   "cell_type": "code",
   "execution_count": 113,
   "metadata": {},
   "outputs": [
    {
     "name": "stdout",
     "output_type": "stream",
     "text": [
      "/Users/crisramos/Desktop/Data Science/Data Sets/Digit/1.jpg\n",
      "1660\n",
      "{'accuracy of RF digit': 0.9277777777777778}\n",
      "4 <- predicted vs  real -> 4\n",
      "0 <- predicted vs  real -> 0\n",
      "9 <- predicted vs  real -> 9\n",
      "1 <- predicted vs  real -> 1\n",
      "8 <- predicted vs  real -> 4\n",
      "7 <- predicted vs  real -> 7\n",
      "1 <- predicted vs  real -> 1\n",
      "5 <- predicted vs  real -> 5\n",
      "1 <- predicted vs  real -> 1\n",
      "6 <- predicted vs  real -> 6\n",
      "6 <- predicted vs  real -> 6\n",
      "7 <- predicted vs  real -> 7\n",
      "6 <- predicted vs  real -> 6\n",
      "1 <- predicted vs  real -> 1\n",
      "5 <- predicted vs  real -> 5\n",
      "5 <- predicted vs  real -> 5\n",
      "7 <- predicted vs  real -> 4\n",
      "6 <- predicted vs  real -> 6\n",
      "2 <- predicted vs  real -> 2\n",
      "7 <- predicted vs  real -> 7\n",
      "4 <- predicted vs  real -> 4\n",
      "6 <- predicted vs  real -> 6\n",
      "4 <- predicted vs  real -> 4\n",
      "1 <- predicted vs  real -> 1\n",
      "5 <- predicted vs  real -> 5\n",
      "2 <- predicted vs  real -> 2\n",
      "9 <- predicted vs  real -> 9\n",
      "5 <- predicted vs  real -> 5\n",
      "4 <- predicted vs  real -> 4\n",
      "6 <- predicted vs  real -> 6\n",
      "5 <- predicted vs  real -> 5\n",
      "6 <- predicted vs  real -> 6\n",
      "3 <- predicted vs  real -> 3\n",
      "4 <- predicted vs  real -> 4\n",
      "0 <- predicted vs  real -> 0\n",
      "9 <- predicted vs  real -> 9\n",
      "9 <- predicted vs  real -> 9\n",
      "8 <- predicted vs  real -> 8\n",
      "4 <- predicted vs  real -> 4\n",
      "6 <- predicted vs  real -> 6\n",
      "8 <- predicted vs  real -> 8\n",
      "1 <- predicted vs  real -> 8\n",
      "5 <- predicted vs  real -> 5\n",
      "7 <- predicted vs  real -> 7\n",
      "5 <- predicted vs  real -> 9\n",
      "4 <- predicted vs  real -> 6\n",
      "9 <- predicted vs  real -> 9\n",
      "6 <- predicted vs  real -> 6\n",
      "1 <- predicted vs  real -> 1\n",
      "7 <- predicted vs  real -> 3\n",
      "0 <- predicted vs  real -> 0\n",
      "1 <- predicted vs  real -> 1\n",
      "9 <- predicted vs  real -> 9\n",
      "7 <- predicted vs  real -> 7\n",
      "3 <- predicted vs  real -> 3\n",
      "3 <- predicted vs  real -> 3\n",
      "1 <- predicted vs  real -> 1\n",
      "1 <- predicted vs  real -> 1\n",
      "8 <- predicted vs  real -> 8\n",
      "8 <- predicted vs  real -> 8\n",
      "9 <- predicted vs  real -> 9\n",
      "8 <- predicted vs  real -> 8\n",
      "5 <- predicted vs  real -> 5\n",
      "7 <- predicted vs  real -> 4\n",
      "4 <- predicted vs  real -> 4\n",
      "7 <- predicted vs  real -> 7\n",
      "2 <- predicted vs  real -> 3\n",
      "5 <- predicted vs  real -> 5\n",
      "8 <- predicted vs  real -> 8\n",
      "4 <- predicted vs  real -> 4\n",
      "3 <- predicted vs  real -> 3\n",
      "1 <- predicted vs  real -> 1\n",
      "3 <- predicted vs  real -> 3\n",
      "8 <- predicted vs  real -> 8\n",
      "7 <- predicted vs  real -> 7\n",
      "3 <- predicted vs  real -> 3\n",
      "3 <- predicted vs  real -> 3\n",
      "0 <- predicted vs  real -> 0\n",
      "8 <- predicted vs  real -> 8\n",
      "7 <- predicted vs  real -> 7\n",
      "2 <- predicted vs  real -> 2\n",
      "8 <- predicted vs  real -> 8\n",
      "5 <- predicted vs  real -> 5\n",
      "3 <- predicted vs  real -> 3\n",
      "8 <- predicted vs  real -> 8\n",
      "7 <- predicted vs  real -> 7\n",
      "6 <- predicted vs  real -> 6\n",
      "4 <- predicted vs  real -> 4\n",
      "6 <- predicted vs  real -> 6\n",
      "2 <- predicted vs  real -> 2\n",
      "2 <- predicted vs  real -> 2\n",
      "0 <- predicted vs  real -> 0\n",
      "1 <- predicted vs  real -> 1\n",
      "1 <- predicted vs  real -> 1\n",
      "5 <- predicted vs  real -> 5\n",
      "3 <- predicted vs  real -> 3\n",
      "5 <- predicted vs  real -> 5\n",
      "7 <- predicted vs  real -> 7\n",
      "6 <- predicted vs  real -> 6\n",
      "8 <- predicted vs  real -> 8\n",
      "2 <- predicted vs  real -> 2\n",
      "2 <- predicted vs  real -> 2\n",
      "6 <- predicted vs  real -> 6\n",
      "4 <- predicted vs  real -> 4\n",
      "6 <- predicted vs  real -> 6\n",
      "7 <- predicted vs  real -> 7\n",
      "3 <- predicted vs  real -> 3\n",
      "7 <- predicted vs  real -> 7\n",
      "3 <- predicted vs  real -> 3\n",
      "9 <- predicted vs  real -> 9\n",
      "4 <- predicted vs  real -> 4\n",
      "7 <- predicted vs  real -> 7\n",
      "0 <- predicted vs  real -> 0\n",
      "3 <- predicted vs  real -> 3\n",
      "5 <- predicted vs  real -> 5\n",
      "1 <- predicted vs  real -> 8\n",
      "5 <- predicted vs  real -> 5\n",
      "0 <- predicted vs  real -> 0\n",
      "3 <- predicted vs  real -> 3\n",
      "9 <- predicted vs  real -> 9\n",
      "2 <- predicted vs  real -> 2\n",
      "7 <- predicted vs  real -> 7\n",
      "3 <- predicted vs  real -> 3\n",
      "2 <- predicted vs  real -> 2\n",
      "0 <- predicted vs  real -> 0\n",
      "8 <- predicted vs  real -> 8\n",
      "1 <- predicted vs  real -> 1\n",
      "9 <- predicted vs  real -> 9\n",
      "2 <- predicted vs  real -> 2\n",
      "1 <- predicted vs  real -> 1\n",
      "5 <- predicted vs  real -> 9\n",
      "1 <- predicted vs  real -> 1\n",
      "0 <- predicted vs  real -> 0\n",
      "3 <- predicted vs  real -> 3\n",
      "4 <- predicted vs  real -> 4\n",
      "3 <- predicted vs  real -> 3\n",
      "0 <- predicted vs  real -> 0\n",
      "7 <- predicted vs  real -> 9\n",
      "3 <- predicted vs  real -> 3\n",
      "2 <- predicted vs  real -> 2\n",
      "2 <- predicted vs  real -> 2\n",
      "7 <- predicted vs  real -> 7\n",
      "3 <- predicted vs  real -> 3\n",
      "1 <- predicted vs  real -> 1\n",
      "6 <- predicted vs  real -> 6\n",
      "7 <- predicted vs  real -> 7\n",
      "2 <- predicted vs  real -> 2\n",
      "8 <- predicted vs  real -> 8\n",
      "3 <- predicted vs  real -> 3\n",
      "1 <- predicted vs  real -> 1\n",
      "1 <- predicted vs  real -> 1\n",
      "6 <- predicted vs  real -> 6\n",
      "4 <- predicted vs  real -> 4\n",
      "8 <- predicted vs  real -> 8\n",
      "2 <- predicted vs  real -> 2\n",
      "1 <- predicted vs  real -> 1\n",
      "8 <- predicted vs  real -> 8\n",
      "4 <- predicted vs  real -> 4\n",
      "1 <- predicted vs  real -> 1\n",
      "3 <- predicted vs  real -> 3\n",
      "1 <- predicted vs  real -> 1\n",
      "1 <- predicted vs  real -> 1\n",
      "9 <- predicted vs  real -> 9\n",
      "5 <- predicted vs  real -> 5\n",
      "4 <- predicted vs  real -> 4\n",
      "5 <- predicted vs  real -> 8\n",
      "7 <- predicted vs  real -> 7\n",
      "4 <- predicted vs  real -> 4\n",
      "8 <- predicted vs  real -> 8\n",
      "9 <- predicted vs  real -> 9\n",
      "5 <- predicted vs  real -> 5\n",
      "7 <- predicted vs  real -> 7\n",
      "6 <- predicted vs  real -> 6\n",
      "9 <- predicted vs  real -> 9\n",
      "4 <- predicted vs  real -> 0\n",
      "0 <- predicted vs  real -> 0\n",
      "4 <- predicted vs  real -> 4\n",
      "0 <- predicted vs  real -> 0\n",
      "0 <- predicted vs  real -> 0\n",
      "4 <- predicted vs  real -> 4\n",
      "indexes that are misclassified =  {1660: 4, 1611: 4, 123: 8, 1582: 9, 492: 6, 1603: 3, 1628: 4, 1605: 3, 794: 8, 37: 9, 69: 9, 1468: 8, 1573: 0}\n",
      "\n",
      "The index  missclasified was = 1660\n",
      "The number missclasified was 4\n"
     ]
    },
    {
     "data": {
      "image/png": "[encoded data removed]",
      "text/plain": [
       "<Figure size 432x288 with 1 Axes>"
      ]
     },
     "metadata": {},
     "output_type": "display_data"
    },
    {
     "name": "stdout",
     "output_type": "stream",
     "text": [
      "The index  missclasified was = 1611\n",
      "The number missclasified was 4\n"
     ]
    },
    {
     "data": {
      "image/png": "[encoded data removed]",
      "text/plain": [
       "<Figure size 432x288 with 1 Axes>"
      ]
     },
     "metadata": {},
     "output_type": "display_data"
    },
    {
     "name": "stdout",
     "output_type": "stream",
     "text": [
      "The index  missclasified was = 123\n",
      "The number missclasified was 8\n"
     ]
    },
    {
     "data": {
      "image/png": "[encoded data removed]",
      "text/plain": [
       "<Figure size 432x288 with 1 Axes>"
      ]
     },
     "metadata": {},
     "output_type": "display_data"
    },
    {
     "name": "stdout",
     "output_type": "stream",
     "text": [
      "The index  missclasified was = 1582\n",
      "The number missclasified was 9\n"
     ]
    },
    {
     "data": {
      "image/png": "[encoded data removed]",
      "text/plain": [
       "<Figure size 432x288 with 1 Axes>"
      ]
     },
     "metadata": {},
     "output_type": "display_data"
    },
    {
     "name": "stdout",
     "output_type": "stream",
     "text": [
      "The index  missclasified was = 492\n",
      "The number missclasified was 6\n"
     ]
    },
    {
     "data": {
      "image/png": "[encoded data removed]",
      "text/plain": [
       "<Figure size 432x288 with 1 Axes>"
      ]
     },
     "metadata": {},
     "output_type": "display_data"
    },
    {
     "name": "stdout",
     "output_type": "stream",
     "text": [
      "The index  missclasified was = 1603\n",
      "The number missclasified was 3\n"
     ]
    },
    {
     "data": {
      "image/png": "[encoded data removed]",
      "text/plain": [
       "<Figure size 432x288 with 1 Axes>"
      ]
     },
     "metadata": {},
     "output_type": "display_data"
    },
    {
     "name": "stdout",
     "output_type": "stream",
     "text": [
      "The index  missclasified was = 1628\n",
      "The number missclasified was 4\n"
     ]
    },
    {
     "data": {
      "image/png": "[encoded data removed]",
      "text/plain": [
       "<Figure size 432x288 with 1 Axes>"
      ]
     },
     "metadata": {},
     "output_type": "display_data"
    },
    {
     "name": "stdout",
     "output_type": "stream",
     "text": [
      "The index  missclasified was = 1605\n",
      "The number missclasified was 3\n"
     ]
    },
    {
     "data": {
      "image/png": "[encoded data removed]",
      "text/plain": [
       "<Figure size 432x288 with 1 Axes>"
      ]
     },
     "metadata": {},
     "output_type": "display_data"
    },
    {
     "name": "stdout",
     "output_type": "stream",
     "text": [
      "The index  missclasified was = 794\n",
      "The number missclasified was 8\n"
     ]
    },
    {
     "data": {
      "image/png": "[encoded data removed]",
      "text/plain": [
       "<Figure size 432x288 with 1 Axes>"
      ]
     },
     "metadata": {},
     "output_type": "display_data"
    },
    {
     "name": "stdout",
     "output_type": "stream",
     "text": [
      "The index  missclasified was = 37\n",
      "The number missclasified was 9\n"
     ]
    },
    {
     "data": {
      "image/png": "[encoded data removed]",
      "text/plain": [
       "<Figure size 432x288 with 1 Axes>"
      ]
     },
     "metadata": {},
     "output_type": "display_data"
    },
    {
     "name": "stdout",
     "output_type": "stream",
     "text": [
      "The index  missclasified was = 69\n",
      "The number missclasified was 9\n"
     ]
    },
    {
     "data": {
      "image/png": "[encoded data removed]",
      "text/plain": [
       "<Figure size 432x288 with 1 Axes>"
      ]
     },
     "metadata": {},
     "output_type": "display_data"
    },
    {
     "name": "stdout",
     "output_type": "stream",
     "text": [
      "The index  missclasified was = 1468\n",
      "The number missclasified was 8\n"
     ]
    },
    {
     "data": {
      "image/png": "[encoded data removed]",
      "text/plain": [
       "<Figure size 432x288 with 1 Axes>"
      ]
     },
     "metadata": {},
     "output_type": "display_data"
    },
    {
     "name": "stdout",
     "output_type": "stream",
     "text": [
      "The index  missclasified was = 1573\n",
      "The number missclasified was 0\n"
     ]
    },
    {
     "data": {
      "image/png": "[encoded data removed]",
      "text/plain": [
       "<Figure size 432x288 with 1 Axes>"
      ]
     },
     "metadata": {},
     "output_type": "display_data"
    }
   ],
   "source": [
    "%matplotlib inline\n",
    "import matplotlib.pyplot as plt\n",
    "# Cristofer R. All question are done in this file\n",
    "# Question 2 -3 are comments fter Question 1\n",
    "\n",
    "#part A Question 1---------------------\n",
    "\n",
    "import numpy as np\n",
    "import pandas as pd\n",
    "import matplotlib.image as mpimg \n",
    "print('/Users/crisramos/Desktop/Data Science/Data Sets/Digit/'+str(1)+'.jpg')\n",
    "data=np.zeros((1797,64))\n",
    "\n",
    "# part B --------------------\n",
    "imgs=[]\n",
    "for i in range (0,1797):\n",
    "    img=mpimg.imread('/Users/crisramos/Desktop/Data Science/Data Sets/Digit/'+str(i)+'.jpg') \n",
    "    #plt.imshow(img, cmap=plt.cm.gray_r, interpolation='nearest') \n",
    "    imgs.append(img)  # get a regular copy of digit img for paert E\n",
    "    feat = img.reshape(64) # reshape to 64 element array\n",
    "    data[i]= np.copy(feat)\n",
    "    #print(i)\n",
    "\n",
    "\n",
    "X=data\n",
    "digit_df = pd.read_csv('/Users/crisramos/Desktop/Data Science/Data Sets/label.csv')\n",
    "#print(X)\n",
    "y= digit_df['digit label']\n",
    "\n",
    "#print(y)\n",
    "#print(data[0])\n",
    "\n",
    "#part C---------------------\n",
    "from sklearn.model_selection import train_test_split\n",
    "X_train, X_test, y_train, y_test = train_test_split(X, y, test_size=0.1, \n",
    "                                                    random_state=2)\n",
    "# part D --------------------\n",
    "from sklearn.ensemble import RandomForestClassifier\n",
    "my_RandomForest =RandomForestClassifier(n_estimators = 19, bootstrap = True, random_state=2)\n",
    "\n",
    "my_RandomForest.fit(X_train,y_train)\n",
    "y_p =my_RandomForest.predict(X_test)\n",
    "\n",
    "print(y_test.index[4])\n",
    "#print(y_test)\n",
    "from sklearn.metrics import accuracy_score\n",
    "\n",
    "           \n",
    "results={}\n",
    "results['accuracy of RF digit']=accuracy_score(y_test,y_p)\n",
    "print(results)\n",
    "\n",
    "# part E -----------------------------\n",
    "\n",
    "i=0;\n",
    "indexes={}\n",
    "indexes_actual_num=[]\n",
    "for x,y in zip(y_p,y_test):\n",
    "    print (str(x) +\" <- predicted vs  real -> \"+str(y))\n",
    "    \n",
    "    if(x!=y):\n",
    "        indexes[y_test.index[i]]=(y)\n",
    "        indexes_actual_num.append(y)\n",
    "    i+=1\n",
    "\n",
    "print('indexes that are misclassified = ',indexes)\n",
    "\n",
    "#plt.imshow(imgs[indexes[2]], cmap=plt.cm.gray_r, interpolation='nearest')\n",
    " \n",
    "\n",
    "print()\n",
    "for k,v in indexes.items():\n",
    "    print('The index  missclasified was = '+str(k))\n",
    "    print('The number missclasified was '+str(v))\n",
    "    plt.imshow(imgs[k], cmap=plt.cm.gray_r, interpolation='nearest')\n",
    "    plt.show()\n",
    "    \n"
   ]
  },
  {
   "cell_type": "code",
   "execution_count": null,
   "metadata": {},
   "outputs": [],
   "source": [
    " # Quetion 2 ------------------------\n",
    "\n",
    "#iii. For a fixed value of Age and GPA, Technical positions earn more on average than Non-Technical positions when the GPA is high enough.\n",
    "# because when X3 when 0  makes the value smaller when we plugg in f(x). ( i.e theta*x3 becomes 0 if non tech)\n",
    "# 30 +20(x1)+.07(x2)+ -30(x3) +.01(x1x2)+ 10(x1x3)\n",
    "# \n",
    "# nontech 30 +20(4.0)+ .07(27) +-30(0) + .01(4.0(27))+ 10(4.0(0))= 112.97\n",
    "# tech 30 +20(4.0) +.07(27)+ -30(1) + .01(4.0(27)) +10(4.0(1))= 122.97\n",
    "\n",
    "\n",
    "#X1 = GPA, X2 = Age, X3 = Type of Position\n",
    "# 0/1 27 4.0\n"
   ]
  },
  {
   "cell_type": "code",
   "execution_count": null,
   "metadata": {},
   "outputs": [],
   "source": [
    "#question 3\n",
    "# A=\n",
    "#   2 -3  1 5 \n",
    "#   7  2 -1 0\n",
    "\n",
    "#B=\n",
    "#   3 \n",
    "#   5\n",
    "#  -6\n",
    "#   9\n",
    "\n",
    "# A*B====>>>>>>>>>\n",
    "\n",
    "#[6+ -15 +-6 + 40\n",
    "# 21 +10 +6 + 0 ]\n",
    "\n",
    "\n",
    "#  2x1 result\n",
    "# [ 25 ]\n",
    "# [ 17. ]"
   ]
  },
  {
   "cell_type": "code",
   "execution_count": null,
   "metadata": {},
   "outputs": [],
   "source": []
  }
 ],
 "metadata": {
  "kernelspec": {
   "display_name": "Python 3",
   "language": "python",
   "name": "python3"
  },
  "language_info": {
   "codemirror_mode": {
    "name": "ipython",
    "version": 3
   },
   "file_extension": ".py",
   "mimetype": "text/x-python",
   "name": "python",
   "nbconvert_exporter": "python",
   "pygments_lexer": "ipython3",
   "version": "3.6.5"
  }
 },
 "nbformat": 4,
 "nbformat_minor": 2
}
